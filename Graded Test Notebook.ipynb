{
    "cells": [
        {
            "cell_type": "markdown",
            "metadata": {
                "collapsed": true
            },
            "source": "# My Jupyter Notebook on IBM Watson Studio"
        },
        {
            "cell_type": "markdown",
            "metadata": {},
            "source": "**Carlos Alberto Pineda** <br>\nStudent"
        },
        {
            "cell_type": "markdown",
            "metadata": {},
            "source": "*I'm interested in Data Science because I think It is a good career currently and offers a wide range of work*"
        },
        {
            "cell_type": "markdown",
            "metadata": {},
            "source": "### We will add two numbers"
        },
        {
            "cell_type": "code",
            "execution_count": 1,
            "metadata": {},
            "outputs": [
                {
                    "data": {
                        "text/plain": "6"
                    },
                    "execution_count": 1,
                    "metadata": {},
                    "output_type": "execute_result"
                }
            ],
            "source": "2+4"
        },
        {
            "cell_type": "markdown",
            "metadata": {},
            "source": "<img src=\"https://s3.dualstack.us-east-2.amazonaws.com/pythondotorg-assets/media/psf/trademarks-faq/python-logo-monochrome.png\" alt=\"Alternative text\" width=\"30%\"/>\nPython features\n<ol>\n    <li>Free and Open-Source.</li>\n    <li>Interpreted Language.</li>\n    <li>Object Oriented</li>\n</ol>\nOfficial Python Website\n\n<a href=\"https://www.python.org/\">www.python.org</a>\n"
        }
    ],
    "metadata": {
        "kernelspec": {
            "display_name": "Python 3.10",
            "language": "python",
            "name": "python3"
        },
        "language_info": {
            "codemirror_mode": {
                "name": "ipython",
                "version": 3
            },
            "file_extension": ".py",
            "mimetype": "text/x-python",
            "name": "python",
            "nbconvert_exporter": "python",
            "pygments_lexer": "ipython3",
            "version": "3.10.6"
        }
    },
    "nbformat": 4,
    "nbformat_minor": 1
}